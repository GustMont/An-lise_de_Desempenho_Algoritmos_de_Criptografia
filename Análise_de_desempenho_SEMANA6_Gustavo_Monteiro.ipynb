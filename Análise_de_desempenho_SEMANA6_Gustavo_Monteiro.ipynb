{
  "nbformat": 4,
  "nbformat_minor": 0,
  "metadata": {
    "colab": {
      "provenance": [],
      "authorship_tag": "ABX9TyOB3sRdacxwkNFNEEM0WO6f",
      "include_colab_link": true
    },
    "kernelspec": {
      "name": "python3",
      "display_name": "Python 3"
    },
    "language_info": {
      "name": "python"
    }
  },
  "cells": [
    {
      "cell_type": "markdown",
      "metadata": {
        "id": "view-in-github",
        "colab_type": "text"
      },
      "source": [
        "<a href=\"https://colab.research.google.com/github/GustMont/Analise_de_Desempenho_Algoritmos_de_Criptografia/blob/main/An%C3%A1lise_de_desempenho_SEMANA6_Gustavo_Monteiro.ipynb\" target=\"_parent\"><img src=\"https://colab.research.google.com/assets/colab-badge.svg\" alt=\"Open In Colab\"/></a>"
      ]
    },
    {
      "cell_type": "markdown",
      "source": [
        "Pesquise uma biblioteca em Python que implemente o algoritmo AES-256 e realize **testes de tempo de resposta**. Realize pelo menos **10 testes no total**, registre os **resultados em uma tabela** e elabore uma **descrição textual do método utilizado e dos resultados obtidos**. **Cada teste deverá ser realizado 100 vezes**, e uma **análise estatística simples** deve ser realizada (calcular desvio padrão e apresentar um histograma)."
      ],
      "metadata": {
        "id": "pZCTP-Y3rvjp"
      }
    },
    {
      "cell_type": "markdown",
      "source": [
        "Aluno: Gustavo Monteiro"
      ],
      "metadata": {
        "id": "L_pgsEEXKbK5"
      }
    },
    {
      "cell_type": "code",
      "execution_count": null,
      "metadata": {
        "colab": {
          "base_uri": "https://localhost:8080/"
        },
        "id": "nqcIl3N9nGG5",
        "outputId": "8b19fa0b-6d88-424e-d0bb-697a594ebdcb"
      },
      "outputs": [
        {
          "output_type": "stream",
          "name": "stdout",
          "text": [
            "Looking in indexes: https://pypi.org/simple, https://us-python.pkg.dev/colab-wheels/public/simple/\n",
            "Collecting pycrypto\n",
            "  Downloading pycrypto-2.6.1.tar.gz (446 kB)\n",
            "\u001b[2K     \u001b[90m━━━━━━━━━━━━━━━━━━━━━━━━━━━━━━━━━━━━━━━\u001b[0m \u001b[32m446.2/446.2 KB\u001b[0m \u001b[31m6.7 MB/s\u001b[0m eta \u001b[36m0:00:00\u001b[0m\n",
            "\u001b[?25h  Preparing metadata (setup.py) ... \u001b[?25l\u001b[?25hdone\n",
            "Building wheels for collected packages: pycrypto\n",
            "  Building wheel for pycrypto (setup.py) ... \u001b[?25l\u001b[?25hdone\n",
            "  Created wheel for pycrypto: filename=pycrypto-2.6.1-cp39-cp39-linux_x86_64.whl size=499020 sha256=aafb40dc60983ac687bc6482a3c0d6d6473a4cb9eeddc6475cf356cc562b5d1d\n",
            "  Stored in directory: /root/.cache/pip/wheels/9d/29/32/8b8f22481bec8b0fbe7087927336ec167faff2ed9db849448f\n",
            "Successfully built pycrypto\n",
            "Installing collected packages: pycrypto\n",
            "Successfully installed pycrypto-2.6.1\n"
          ]
        }
      ],
      "source": [
        "# Instalação da biblioteca pycrypto\n",
        "!pip3 install pycrypto"
      ]
    },
    {
      "cell_type": "code",
      "source": [
        "# Importando bibliotecas necessárias\n",
        "from tabulate import tabulate\n",
        "from Crypto.Cipher import AES\n",
        "import os\n",
        "import time\n",
        "import statistics\n",
        "import matplotlib.pyplot as plt"
      ],
      "metadata": {
        "id": "Apie9pzUoQET"
      },
      "execution_count": null,
      "outputs": []
    },
    {
      "cell_type": "code",
      "source": [
        "# Chave e vetor de inicialização aleatórios\n",
        "key = os.urandom(32)\n",
        "iv = os.urandom(16)\n",
        "\n",
        "# String que será criptografada\n",
        "j_string = 'Muito calor hoje'\n",
        "\n",
        "j_array = [] #Array para armazenar o tempo de execução da função\n",
        "k_array = [] #Array para armazenar o texto criptografado\n",
        "l_array = [] #Array para armazenar o a variável \"i\"\n",
        "j_time_modif_array = [] #Array para armazenar o tempo de execução convertido em segundos\n",
        "j_string_array = [] #Array para armazenar o texto criptografado em formato de string para a tabela\n",
        "\n",
        "#Loop de execução da criptografia em 100 vezes\n",
        "for i in range(100):\n",
        "    start_time = time.time() #Start do cronômetro\n",
        "    cipher = AES.new(key, AES.MODE_CBC, iv) #Criação do objeto do tipo AES com a chave e o vetor de inicialização\n",
        "    ciphertext = cipher.encrypt(j_string) #Criptografando string\n",
        "    end_time = time.time() #Parada do cronômetro\n",
        "    tempo_execucao = end_time - start_time #Cálculo do tempo de execução da criptografia\n",
        "    j_array.append(tempo_execucao)  #Armazenando tempo de execução\n",
        "    j_time_modif_array.append(\"{:.5f} segundos\".format(tempo_execucao)) #Convertendo e armazenando o tempo de execução em segundos\n",
        "    j_string_array.append(j_string) #Armazenando string original\n",
        "    string_modificada = str(ciphertext) #Convertendo texto criptografado em string para a tabela\n",
        "    k_array.append(string_modificada) #Armazenando string do texto criptografado\n",
        "    i += 1\n",
        "    l_array.append(i) #Armazenando o valor de \"i\" para a tabela com incremento para facilitar a visualização\n",
        "    i -= 1\n",
        "\n",
        "\n",
        "desvio_padrao = statistics.stdev(j_array) #Cálculo do desvio padrão do tempo de execução\n",
        "\n",
        "# Imprimir o desvio padrão na tela\n",
        "print(\"O desvio padrão é: {:.5f} segundos\".format(desvio_padrao))\n",
        "\n",
        "# Criando o histograma\n",
        "plt.hist(j_array, bins=50)\n",
        "\n",
        "# Adicionando rótulos aos eixos\n",
        "plt.xlabel('Valores')\n",
        "plt.ylabel('Frequência')\n",
        "\n",
        "# Exibindo o gráfico\n",
        "plt.show()\n",
        "\n",
        "print(\"j_array\")\n",
        "print(j_array)\n",
        "print(\"k_array\")\n",
        "print(k_array)\n",
        "print(\"l_array\")\n",
        "print(l_array)\n",
        "print()\n",
        "print(\"key\")\n",
        "print(key)\n",
        "print(\"iv\")\n",
        "print(iv)\n",
        "print()\n",
        "print(\"Tempo de execução da função: {:.5f} segundos\".format(tempo_execucao))\n",
        "print(\"ciphertext\")\n",
        "print(ciphertext)"
      ],
      "metadata": {
        "id": "FlHBV5LRFue5",
        "colab": {
          "base_uri": "https://localhost:8080/",
          "height": 577
        },
        "outputId": "edab89f3-c909-4717-b6c3-4d16f7ff339e"
      },
      "execution_count": null,
      "outputs": [
        {
          "output_type": "stream",
          "name": "stdout",
          "text": [
            "O desvio padrão é: 0.00051 segundos\n"
          ]
        },
        {
          "output_type": "display_data",
          "data": {
            "text/plain": [
              "<Figure size 432x288 with 1 Axes>"
            ],
            "image/png": "[encoded data removed]"
          },
          "metadata": {
            "needs_background": "light"
          }
        },
        {
          "output_type": "stream",
          "name": "stdout",
          "text": [
            "j_array\n",
            "[5.030632019042969e-05, 1.4781951904296875e-05, 1.239776611328125e-05, 1.1920928955078125e-05, 1.2874603271484375e-05, 1.2159347534179688e-05, 1.1920928955078125e-05, 1.1682510375976562e-05, 1.1444091796875e-05, 1.1444091796875e-05, 1.1682510375976562e-05, 1.1682510375976562e-05, 1.1682510375976562e-05, 1.1444091796875e-05, 1.1682510375976562e-05, 2.0742416381835938e-05, 1.1920928955078125e-05, 1.1920928955078125e-05, 1.1444091796875e-05, 1.1444091796875e-05, 1.1444091796875e-05, 1.1444091796875e-05, 1.1682510375976562e-05, 1.1920928955078125e-05, 1.1682510375976562e-05, 1.1444091796875e-05, 1.1682510375976562e-05, 1.1682510375976562e-05, 1.1682510375976562e-05, 1.1682510375976562e-05, 1.1682510375976562e-05, 1.1444091796875e-05, 1.1682510375976562e-05, 1.1682510375976562e-05, 1.1682510375976562e-05, 1.1682510375976562e-05, 1.1444091796875e-05, 1.1444091796875e-05, 0.005108833312988281, 2.47955322265625e-05, 1.2636184692382812e-05, 1.1682510375976562e-05, 1.1444091796875e-05, 1.1920928955078125e-05, 1.1920928955078125e-05, 1.1682510375976562e-05, 1.1444091796875e-05, 1.1444091796875e-05, 1.1205673217773438e-05, 1.1444091796875e-05, 1.1920928955078125e-05, 1.1444091796875e-05, 1.1444091796875e-05, 1.1444091796875e-05, 1.1444091796875e-05, 1.1682510375976562e-05, 1.1682510375976562e-05, 1.1920928955078125e-05, 1.1444091796875e-05, 1.1444091796875e-05, 1.1444091796875e-05, 1.1444091796875e-05, 1.1444091796875e-05, 1.1920928955078125e-05, 1.1920928955078125e-05, 1.1682510375976562e-05, 1.1444091796875e-05, 1.1444091796875e-05, 1.1920928955078125e-05, 1.239776611328125e-05, 1.1682510375976562e-05, 1.1444091796875e-05, 1.1682510375976562e-05, 1.1444091796875e-05, 1.1682510375976562e-05, 1.1920928955078125e-05, 1.1444091796875e-05, 1.1920928955078125e-05, 2.002716064453125e-05, 1.5974044799804688e-05, 1.1682510375976562e-05, 1.4543533325195312e-05, 1.1920928955078125e-05, 1.1920928955078125e-05, 1.1444091796875e-05, 1.1444091796875e-05, 1.1444091796875e-05, 1.1444091796875e-05, 1.1205673217773438e-05, 1.1920928955078125e-05, 1.1920928955078125e-05, 1.1920928955078125e-05, 1.1920928955078125e-05, 1.1920928955078125e-05, 1.1682510375976562e-05, 1.1682510375976562e-05, 1.1444091796875e-05, 1.1682510375976562e-05, 1.5735626220703125e-05, 1.1682510375976562e-05]\n",
            "k_array\n",
            "[\"b'D\\\\xd2\\\\xea\\\\xc3\\\\xcd\\\\x1a\\\\x0f\\\\xdb\\\\xdfHB\\\\xcbM(\\\\xeb3'\", \"b'D\\\\xd2\\\\xea\\\\xc3\\\\xcd\\\\x1a\\\\x0f\\\\xdb\\\\xdfHB\\\\xcbM(\\\\xeb3'\", \"b'D\\\\xd2\\\\xea\\\\xc3\\\\xcd\\\\x1a\\\\x0f\\\\xdb\\\\xdfHB\\\\xcbM(\\\\xeb3'\", \"b'D\\\\xd2\\\\xea\\\\xc3\\\\xcd\\\\x1a\\\\x0f\\\\xdb\\\\xdfHB\\\\xcbM(\\\\xeb3'\", \"b'D\\\\xd2\\\\xea\\\\xc3\\\\xcd\\\\x1a\\\\x0f\\\\xdb\\\\xdfHB\\\\xcbM(\\\\xeb3'\", \"b'D\\\\xd2\\\\xea\\\\xc3\\\\xcd\\\\x1a\\\\x0f\\\\xdb\\\\xdfHB\\\\xcbM(\\\\xeb3'\", \"b'D\\\\xd2\\\\xea\\\\xc3\\\\xcd\\\\x1a\\\\x0f\\\\xdb\\\\xdfHB\\\\xcbM(\\\\xeb3'\", \"b'D\\\\xd2\\\\xea\\\\xc3\\\\xcd\\\\x1a\\\\x0f\\\\xdb\\\\xdfHB\\\\xcbM(\\\\xeb3'\", \"b'D\\\\xd2\\\\xea\\\\xc3\\\\xcd\\\\x1a\\\\x0f\\\\xdb\\\\xdfHB\\\\xcbM(\\\\xeb3'\", \"b'D\\\\xd2\\\\xea\\\\xc3\\\\xcd\\\\x1a\\\\x0f\\\\xdb\\\\xdfHB\\\\xcbM(\\\\xeb3'\", \"b'D\\\\xd2\\\\xea\\\\xc3\\\\xcd\\\\x1a\\\\x0f\\\\xdb\\\\xdfHB\\\\xcbM(\\\\xeb3'\", \"b'D\\\\xd2\\\\xea\\\\xc3\\\\xcd\\\\x1a\\\\x0f\\\\xdb\\\\xdfHB\\\\xcbM(\\\\xeb3'\", \"b'D\\\\xd2\\\\xea\\\\xc3\\\\xcd\\\\x1a\\\\x0f\\\\xdb\\\\xdfHB\\\\xcbM(\\\\xeb3'\", \"b'D\\\\xd2\\\\xea\\\\xc3\\\\xcd\\\\x1a\\\\x0f\\\\xdb\\\\xdfHB\\\\xcbM(\\\\xeb3'\", \"b'D\\\\xd2\\\\xea\\\\xc3\\\\xcd\\\\x1a\\\\x0f\\\\xdb\\\\xdfHB\\\\xcbM(\\\\xeb3'\", \"b'D\\\\xd2\\\\xea\\\\xc3\\\\xcd\\\\x1a\\\\x0f\\\\xdb\\\\xdfHB\\\\xcbM(\\\\xeb3'\", \"b'D\\\\xd2\\\\xea\\\\xc3\\\\xcd\\\\x1a\\\\x0f\\\\xdb\\\\xdfHB\\\\xcbM(\\\\xeb3'\", \"b'D\\\\xd2\\\\xea\\\\xc3\\\\xcd\\\\x1a\\\\x0f\\\\xdb\\\\xdfHB\\\\xcbM(\\\\xeb3'\", \"b'D\\\\xd2\\\\xea\\\\xc3\\\\xcd\\\\x1a\\\\x0f\\\\xdb\\\\xdfHB\\\\xcbM(\\\\xeb3'\", \"b'D\\\\xd2\\\\xea\\\\xc3\\\\xcd\\\\x1a\\\\x0f\\\\xdb\\\\xdfHB\\\\xcbM(\\\\xeb3'\", \"b'D\\\\xd2\\\\xea\\\\xc3\\\\xcd\\\\x1a\\\\x0f\\\\xdb\\\\xdfHB\\\\xcbM(\\\\xeb3'\", \"b'D\\\\xd2\\\\xea\\\\xc3\\\\xcd\\\\x1a\\\\x0f\\\\xdb\\\\xdfHB\\\\xcbM(\\\\xeb3'\", \"b'D\\\\xd2\\\\xea\\\\xc3\\\\xcd\\\\x1a\\\\x0f\\\\xdb\\\\xdfHB\\\\xcbM(\\\\xeb3'\", \"b'D\\\\xd2\\\\xea\\\\xc3\\\\xcd\\\\x1a\\\\x0f\\\\xdb\\\\xdfHB\\\\xcbM(\\\\xeb3'\", \"b'D\\\\xd2\\\\xea\\\\xc3\\\\xcd\\\\x1a\\\\x0f\\\\xdb\\\\xdfHB\\\\xcbM(\\\\xeb3'\", \"b'D\\\\xd2\\\\xea\\\\xc3\\\\xcd\\\\x1a\\\\x0f\\\\xdb\\\\xdfHB\\\\xcbM(\\\\xeb3'\", \"b'D\\\\xd2\\\\xea\\\\xc3\\\\xcd\\\\x1a\\\\x0f\\\\xdb\\\\xdfHB\\\\xcbM(\\\\xeb3'\", \"b'D\\\\xd2\\\\xea\\\\xc3\\\\xcd\\\\x1a\\\\x0f\\\\xdb\\\\xdfHB\\\\xcbM(\\\\xeb3'\", \"b'D\\\\xd2\\\\xea\\\\xc3\\\\xcd\\\\x1a\\\\x0f\\\\xdb\\\\xdfHB\\\\xcbM(\\\\xeb3'\", \"b'D\\\\xd2\\\\xea\\\\xc3\\\\xcd\\\\x1a\\\\x0f\\\\xdb\\\\xdfHB\\\\xcbM(\\\\xeb3'\", \"b'D\\\\xd2\\\\xea\\\\xc3\\\\xcd\\\\x1a\\\\x0f\\\\xdb\\\\xdfHB\\\\xcbM(\\\\xeb3'\", \"b'D\\\\xd2\\\\xea\\\\xc3\\\\xcd\\\\x1a\\\\x0f\\\\xdb\\\\xdfHB\\\\xcbM(\\\\xeb3'\", \"b'D\\\\xd2\\\\xea\\\\xc3\\\\xcd\\\\x1a\\\\x0f\\\\xdb\\\\xdfHB\\\\xcbM(\\\\xeb3'\", \"b'D\\\\xd2\\\\xea\\\\xc3\\\\xcd\\\\x1a\\\\x0f\\\\xdb\\\\xdfHB\\\\xcbM(\\\\xeb3'\", \"b'D\\\\xd2\\\\xea\\\\xc3\\\\xcd\\\\x1a\\\\x0f\\\\xdb\\\\xdfHB\\\\xcbM(\\\\xeb3'\", \"b'D\\\\xd2\\\\xea\\\\xc3\\\\xcd\\\\x1a\\\\x0f\\\\xdb\\\\xdfHB\\\\xcbM(\\\\xeb3'\", \"b'D\\\\xd2\\\\xea\\\\xc3\\\\xcd\\\\x1a\\\\x0f\\\\xdb\\\\xdfHB\\\\xcbM(\\\\xeb3'\", \"b'D\\\\xd2\\\\xea\\\\xc3\\\\xcd\\\\x1a\\\\x0f\\\\xdb\\\\xdfHB\\\\xcbM(\\\\xeb3'\", \"b'D\\\\xd2\\\\xea\\\\xc3\\\\xcd\\\\x1a\\\\x0f\\\\xdb\\\\xdfHB\\\\xcbM(\\\\xeb3'\", \"b'D\\\\xd2\\\\xea\\\\xc3\\\\xcd\\\\x1a\\\\x0f\\\\xdb\\\\xdfHB\\\\xcbM(\\\\xeb3'\", \"b'D\\\\xd2\\\\xea\\\\xc3\\\\xcd\\\\x1a\\\\x0f\\\\xdb\\\\xdfHB\\\\xcbM(\\\\xeb3'\", \"b'D\\\\xd2\\\\xea\\\\xc3\\\\xcd\\\\x1a\\\\x0f\\\\xdb\\\\xdfHB\\\\xcbM(\\\\xeb3'\", \"b'D\\\\xd2\\\\xea\\\\xc3\\\\xcd\\\\x1a\\\\x0f\\\\xdb\\\\xdfHB\\\\xcbM(\\\\xeb3'\", \"b'D\\\\xd2\\\\xea\\\\xc3\\\\xcd\\\\x1a\\\\x0f\\\\xdb\\\\xdfHB\\\\xcbM(\\\\xeb3'\", \"b'D\\\\xd2\\\\xea\\\\xc3\\\\xcd\\\\x1a\\\\x0f\\\\xdb\\\\xdfHB\\\\xcbM(\\\\xeb3'\", \"b'D\\\\xd2\\\\xea\\\\xc3\\\\xcd\\\\x1a\\\\x0f\\\\xdb\\\\xdfHB\\\\xcbM(\\\\xeb3'\", \"b'D\\\\xd2\\\\xea\\\\xc3\\\\xcd\\\\x1a\\\\x0f\\\\xdb\\\\xdfHB\\\\xcbM(\\\\xeb3'\", \"b'D\\\\xd2\\\\xea\\\\xc3\\\\xcd\\\\x1a\\\\x0f\\\\xdb\\\\xdfHB\\\\xcbM(\\\\xeb3'\", \"b'D\\\\xd2\\\\xea\\\\xc3\\\\xcd\\\\x1a\\\\x0f\\\\xdb\\\\xdfHB\\\\xcbM(\\\\xeb3'\", \"b'D\\\\xd2\\\\xea\\\\xc3\\\\xcd\\\\x1a\\\\x0f\\\\xdb\\\\xdfHB\\\\xcbM(\\\\xeb3'\", \"b'D\\\\xd2\\\\xea\\\\xc3\\\\xcd\\\\x1a\\\\x0f\\\\xdb\\\\xdfHB\\\\xcbM(\\\\xeb3'\", \"b'D\\\\xd2\\\\xea\\\\xc3\\\\xcd\\\\x1a\\\\x0f\\\\xdb\\\\xdfHB\\\\xcbM(\\\\xeb3'\", \"b'D\\\\xd2\\\\xea\\\\xc3\\\\xcd\\\\x1a\\\\x0f\\\\xdb\\\\xdfHB\\\\xcbM(\\\\xeb3'\", \"b'D\\\\xd2\\\\xea\\\\xc3\\\\xcd\\\\x1a\\\\x0f\\\\xdb\\\\xdfHB\\\\xcbM(\\\\xeb3'\", \"b'D\\\\xd2\\\\xea\\\\xc3\\\\xcd\\\\x1a\\\\x0f\\\\xdb\\\\xdfHB\\\\xcbM(\\\\xeb3'\", \"b'D\\\\xd2\\\\xea\\\\xc3\\\\xcd\\\\x1a\\\\x0f\\\\xdb\\\\xdfHB\\\\xcbM(\\\\xeb3'\", \"b'D\\\\xd2\\\\xea\\\\xc3\\\\xcd\\\\x1a\\\\x0f\\\\xdb\\\\xdfHB\\\\xcbM(\\\\xeb3'\", \"b'D\\\\xd2\\\\xea\\\\xc3\\\\xcd\\\\x1a\\\\x0f\\\\xdb\\\\xdfHB\\\\xcbM(\\\\xeb3'\", \"b'D\\\\xd2\\\\xea\\\\xc3\\\\xcd\\\\x1a\\\\x0f\\\\xdb\\\\xdfHB\\\\xcbM(\\\\xeb3'\", \"b'D\\\\xd2\\\\xea\\\\xc3\\\\xcd\\\\x1a\\\\x0f\\\\xdb\\\\xdfHB\\\\xcbM(\\\\xeb3'\", \"b'D\\\\xd2\\\\xea\\\\xc3\\\\xcd\\\\x1a\\\\x0f\\\\xdb\\\\xdfHB\\\\xcbM(\\\\xeb3'\", \"b'D\\\\xd2\\\\xea\\\\xc3\\\\xcd\\\\x1a\\\\x0f\\\\xdb\\\\xdfHB\\\\xcbM(\\\\xeb3'\", \"b'D\\\\xd2\\\\xea\\\\xc3\\\\xcd\\\\x1a\\\\x0f\\\\xdb\\\\xdfHB\\\\xcbM(\\\\xeb3'\", \"b'D\\\\xd2\\\\xea\\\\xc3\\\\xcd\\\\x1a\\\\x0f\\\\xdb\\\\xdfHB\\\\xcbM(\\\\xeb3'\", \"b'D\\\\xd2\\\\xea\\\\xc3\\\\xcd\\\\x1a\\\\x0f\\\\xdb\\\\xdfHB\\\\xcbM(\\\\xeb3'\", \"b'D\\\\xd2\\\\xea\\\\xc3\\\\xcd\\\\x1a\\\\x0f\\\\xdb\\\\xdfHB\\\\xcbM(\\\\xeb3'\", \"b'D\\\\xd2\\\\xea\\\\xc3\\\\xcd\\\\x1a\\\\x0f\\\\xdb\\\\xdfHB\\\\xcbM(\\\\xeb3'\", \"b'D\\\\xd2\\\\xea\\\\xc3\\\\xcd\\\\x1a\\\\x0f\\\\xdb\\\\xdfHB\\\\xcbM(\\\\xeb3'\", \"b'D\\\\xd2\\\\xea\\\\xc3\\\\xcd\\\\x1a\\\\x0f\\\\xdb\\\\xdfHB\\\\xcbM(\\\\xeb3'\", \"b'D\\\\xd2\\\\xea\\\\xc3\\\\xcd\\\\x1a\\\\x0f\\\\xdb\\\\xdfHB\\\\xcbM(\\\\xeb3'\", \"b'D\\\\xd2\\\\xea\\\\xc3\\\\xcd\\\\x1a\\\\x0f\\\\xdb\\\\xdfHB\\\\xcbM(\\\\xeb3'\", \"b'D\\\\xd2\\\\xea\\\\xc3\\\\xcd\\\\x1a\\\\x0f\\\\xdb\\\\xdfHB\\\\xcbM(\\\\xeb3'\", \"b'D\\\\xd2\\\\xea\\\\xc3\\\\xcd\\\\x1a\\\\x0f\\\\xdb\\\\xdfHB\\\\xcbM(\\\\xeb3'\", \"b'D\\\\xd2\\\\xea\\\\xc3\\\\xcd\\\\x1a\\\\x0f\\\\xdb\\\\xdfHB\\\\xcbM(\\\\xeb3'\", \"b'D\\\\xd2\\\\xea\\\\xc3\\\\xcd\\\\x1a\\\\x0f\\\\xdb\\\\xdfHB\\\\xcbM(\\\\xeb3'\", \"b'D\\\\xd2\\\\xea\\\\xc3\\\\xcd\\\\x1a\\\\x0f\\\\xdb\\\\xdfHB\\\\xcbM(\\\\xeb3'\", \"b'D\\\\xd2\\\\xea\\\\xc3\\\\xcd\\\\x1a\\\\x0f\\\\xdb\\\\xdfHB\\\\xcbM(\\\\xeb3'\", \"b'D\\\\xd2\\\\xea\\\\xc3\\\\xcd\\\\x1a\\\\x0f\\\\xdb\\\\xdfHB\\\\xcbM(\\\\xeb3'\", \"b'D\\\\xd2\\\\xea\\\\xc3\\\\xcd\\\\x1a\\\\x0f\\\\xdb\\\\xdfHB\\\\xcbM(\\\\xeb3'\", \"b'D\\\\xd2\\\\xea\\\\xc3\\\\xcd\\\\x1a\\\\x0f\\\\xdb\\\\xdfHB\\\\xcbM(\\\\xeb3'\", \"b'D\\\\xd2\\\\xea\\\\xc3\\\\xcd\\\\x1a\\\\x0f\\\\xdb\\\\xdfHB\\\\xcbM(\\\\xeb3'\", \"b'D\\\\xd2\\\\xea\\\\xc3\\\\xcd\\\\x1a\\\\x0f\\\\xdb\\\\xdfHB\\\\xcbM(\\\\xeb3'\", \"b'D\\\\xd2\\\\xea\\\\xc3\\\\xcd\\\\x1a\\\\x0f\\\\xdb\\\\xdfHB\\\\xcbM(\\\\xeb3'\", \"b'D\\\\xd2\\\\xea\\\\xc3\\\\xcd\\\\x1a\\\\x0f\\\\xdb\\\\xdfHB\\\\xcbM(\\\\xeb3'\", \"b'D\\\\xd2\\\\xea\\\\xc3\\\\xcd\\\\x1a\\\\x0f\\\\xdb\\\\xdfHB\\\\xcbM(\\\\xeb3'\", \"b'D\\\\xd2\\\\xea\\\\xc3\\\\xcd\\\\x1a\\\\x0f\\\\xdb\\\\xdfHB\\\\xcbM(\\\\xeb3'\", \"b'D\\\\xd2\\\\xea\\\\xc3\\\\xcd\\\\x1a\\\\x0f\\\\xdb\\\\xdfHB\\\\xcbM(\\\\xeb3'\", \"b'D\\\\xd2\\\\xea\\\\xc3\\\\xcd\\\\x1a\\\\x0f\\\\xdb\\\\xdfHB\\\\xcbM(\\\\xeb3'\", \"b'D\\\\xd2\\\\xea\\\\xc3\\\\xcd\\\\x1a\\\\x0f\\\\xdb\\\\xdfHB\\\\xcbM(\\\\xeb3'\", \"b'D\\\\xd2\\\\xea\\\\xc3\\\\xcd\\\\x1a\\\\x0f\\\\xdb\\\\xdfHB\\\\xcbM(\\\\xeb3'\", \"b'D\\\\xd2\\\\xea\\\\xc3\\\\xcd\\\\x1a\\\\x0f\\\\xdb\\\\xdfHB\\\\xcbM(\\\\xeb3'\", \"b'D\\\\xd2\\\\xea\\\\xc3\\\\xcd\\\\x1a\\\\x0f\\\\xdb\\\\xdfHB\\\\xcbM(\\\\xeb3'\", \"b'D\\\\xd2\\\\xea\\\\xc3\\\\xcd\\\\x1a\\\\x0f\\\\xdb\\\\xdfHB\\\\xcbM(\\\\xeb3'\", \"b'D\\\\xd2\\\\xea\\\\xc3\\\\xcd\\\\x1a\\\\x0f\\\\xdb\\\\xdfHB\\\\xcbM(\\\\xeb3'\", \"b'D\\\\xd2\\\\xea\\\\xc3\\\\xcd\\\\x1a\\\\x0f\\\\xdb\\\\xdfHB\\\\xcbM(\\\\xeb3'\", \"b'D\\\\xd2\\\\xea\\\\xc3\\\\xcd\\\\x1a\\\\x0f\\\\xdb\\\\xdfHB\\\\xcbM(\\\\xeb3'\", \"b'D\\\\xd2\\\\xea\\\\xc3\\\\xcd\\\\x1a\\\\x0f\\\\xdb\\\\xdfHB\\\\xcbM(\\\\xeb3'\", \"b'D\\\\xd2\\\\xea\\\\xc3\\\\xcd\\\\x1a\\\\x0f\\\\xdb\\\\xdfHB\\\\xcbM(\\\\xeb3'\", \"b'D\\\\xd2\\\\xea\\\\xc3\\\\xcd\\\\x1a\\\\x0f\\\\xdb\\\\xdfHB\\\\xcbM(\\\\xeb3'\", \"b'D\\\\xd2\\\\xea\\\\xc3\\\\xcd\\\\x1a\\\\x0f\\\\xdb\\\\xdfHB\\\\xcbM(\\\\xeb3'\"]\n",
            "l_array\n",
            "[1, 2, 3, 4, 5, 6, 7, 8, 9, 10, 11, 12, 13, 14, 15, 16, 17, 18, 19, 20, 21, 22, 23, 24, 25, 26, 27, 28, 29, 30, 31, 32, 33, 34, 35, 36, 37, 38, 39, 40, 41, 42, 43, 44, 45, 46, 47, 48, 49, 50, 51, 52, 53, 54, 55, 56, 57, 58, 59, 60, 61, 62, 63, 64, 65, 66, 67, 68, 69, 70, 71, 72, 73, 74, 75, 76, 77, 78, 79, 80, 81, 82, 83, 84, 85, 86, 87, 88, 89, 90, 91, 92, 93, 94, 95, 96, 97, 98, 99, 100]\n",
            "\n",
            "key\n",
            "b'\\xe6\\xd8\\xd3\\xece\\xa5\\xcdv\\xfeX^]![\\x92E\\xf89\\xd7\\t\\x19i\\xca\\xb3\\xe5\\xec\\x9d\\nZ\\xf4v\\xd3'\n",
            "iv\n",
            "b\"\\xb5\\xfdM|@\\xaa\\xc8\\x98 $\\x89\\xe8<\\xdc'\\x92\"\n",
            "\n",
            "Tempo de execução da função: 0.00001 segundos\n",
            "ciphertext\n",
            "b'D\\xd2\\xea\\xc3\\xcd\\x1a\\x0f\\xdb\\xdfHB\\xcbM(\\xeb3'\n"
          ]
        }
      ]
    },
    {
      "cell_type": "markdown",
      "source": [
        "# A metodologia utilizada foi a de criptografia simétrica, usando o algoritmo AES (Advanced Encryption Standart).\n",
        "# O código gera uma chave de criptografia aleatória de 16 bytes, e um vetor de 16 bytes, para criptografar uma string de texto.\n",
        "\n",
        "Abaixo uma tabela com os resultados obtidos:"
      ],
      "metadata": {
        "id": "hEUGf35PAyWI"
      }
    },
    {
      "cell_type": "code",
      "source": [
        "import tabulate\n",
        "table = zip(l_array, j_string_array, k_array, j_time_modif_array)\n",
        "\n",
        "print(tabulate.tabulate(table, headers=['N','String Original', 'String Codificada', 'Tempo de execução'], tablefmt='fancy_grid'))"
      ],
      "metadata": {
        "colab": {
          "base_uri": "https://localhost:8080/"
        },
        "id": "AWQCeDKZ1xUF",
        "outputId": "86524ccd-2e0a-42fd-daea-84360ead26fc"
      },
      "execution_count": null,
      "outputs": [
        {
          "output_type": "stream",
          "name": "stdout",
          "text": [
            "╒═════╤═══════════════════╤═══════════════════════════════════════════════════╤═════════════════════╕\n",
            "│   N │ String Original   │ String Codificada                                 │ Tempo de execução   │\n",
            "╞═════╪═══════════════════╪═══════════════════════════════════════════════════╪═════════════════════╡\n",
            "│   1 │ Muito calor hoje  │ b'D\\xd2\\xea\\xc3\\xcd\\x1a\\x0f\\xdb\\xdfHB\\xcbM(\\xeb3' │ 0.00005 segundos    │\n",
            "├─────┼───────────────────┼───────────────────────────────────────────────────┼─────────────────────┤\n",
            "│   2 │ Muito calor hoje  │ b'D\\xd2\\xea\\xc3\\xcd\\x1a\\x0f\\xdb\\xdfHB\\xcbM(\\xeb3' │ 0.00001 segundos    │\n",
            "├─────┼───────────────────┼───────────────────────────────────────────────────┼─────────────────────┤\n",
            "│   3 │ Muito calor hoje  │ b'D\\xd2\\xea\\xc3\\xcd\\x1a\\x0f\\xdb\\xdfHB\\xcbM(\\xeb3' │ 0.00001 segundos    │\n",
            "├─────┼───────────────────┼───────────────────────────────────────────────────┼─────────────────────┤\n",
            "│   4 │ Muito calor hoje  │ b'D\\xd2\\xea\\xc3\\xcd\\x1a\\x0f\\xdb\\xdfHB\\xcbM(\\xeb3' │ 0.00001 segundos    │\n",
            "├─────┼───────────────────┼───────────────────────────────────────────────────┼─────────────────────┤\n",
            "│   5 │ Muito calor hoje  │ b'D\\xd2\\xea\\xc3\\xcd\\x1a\\x0f\\xdb\\xdfHB\\xcbM(\\xeb3' │ 0.00001 segundos    │\n",
            "├─────┼───────────────────┼───────────────────────────────────────────────────┼─────────────────────┤\n",
            "│   6 │ Muito calor hoje  │ b'D\\xd2\\xea\\xc3\\xcd\\x1a\\x0f\\xdb\\xdfHB\\xcbM(\\xeb3' │ 0.00001 segundos    │\n",
            "├─────┼───────────────────┼───────────────────────────────────────────────────┼─────────────────────┤\n",
            "│   7 │ Muito calor hoje  │ b'D\\xd2\\xea\\xc3\\xcd\\x1a\\x0f\\xdb\\xdfHB\\xcbM(\\xeb3' │ 0.00001 segundos    │\n",
            "├─────┼───────────────────┼───────────────────────────────────────────────────┼─────────────────────┤\n",
            "│   8 │ Muito calor hoje  │ b'D\\xd2\\xea\\xc3\\xcd\\x1a\\x0f\\xdb\\xdfHB\\xcbM(\\xeb3' │ 0.00001 segundos    │\n",
            "├─────┼───────────────────┼───────────────────────────────────────────────────┼─────────────────────┤\n",
            "│   9 │ Muito calor hoje  │ b'D\\xd2\\xea\\xc3\\xcd\\x1a\\x0f\\xdb\\xdfHB\\xcbM(\\xeb3' │ 0.00001 segundos    │\n",
            "├─────┼───────────────────┼───────────────────────────────────────────────────┼─────────────────────┤\n",
            "│  10 │ Muito calor hoje  │ b'D\\xd2\\xea\\xc3\\xcd\\x1a\\x0f\\xdb\\xdfHB\\xcbM(\\xeb3' │ 0.00001 segundos    │\n",
            "├─────┼───────────────────┼───────────────────────────────────────────────────┼─────────────────────┤\n",
            "│  11 │ Muito calor hoje  │ b'D\\xd2\\xea\\xc3\\xcd\\x1a\\x0f\\xdb\\xdfHB\\xcbM(\\xeb3' │ 0.00001 segundos    │\n",
            "├─────┼───────────────────┼───────────────────────────────────────────────────┼─────────────────────┤\n",
            "│  12 │ Muito calor hoje  │ b'D\\xd2\\xea\\xc3\\xcd\\x1a\\x0f\\xdb\\xdfHB\\xcbM(\\xeb3' │ 0.00001 segundos    │\n",
            "├─────┼───────────────────┼───────────────────────────────────────────────────┼─────────────────────┤\n",
            "│  13 │ Muito calor hoje  │ b'D\\xd2\\xea\\xc3\\xcd\\x1a\\x0f\\xdb\\xdfHB\\xcbM(\\xeb3' │ 0.00001 segundos    │\n",
            "├─────┼───────────────────┼───────────────────────────────────────────────────┼─────────────────────┤\n",
            "│  14 │ Muito calor hoje  │ b'D\\xd2\\xea\\xc3\\xcd\\x1a\\x0f\\xdb\\xdfHB\\xcbM(\\xeb3' │ 0.00001 segundos    │\n",
            "├─────┼───────────────────┼───────────────────────────────────────────────────┼─────────────────────┤\n",
            "│  15 │ Muito calor hoje  │ b'D\\xd2\\xea\\xc3\\xcd\\x1a\\x0f\\xdb\\xdfHB\\xcbM(\\xeb3' │ 0.00001 segundos    │\n",
            "├─────┼───────────────────┼───────────────────────────────────────────────────┼─────────────────────┤\n",
            "│  16 │ Muito calor hoje  │ b'D\\xd2\\xea\\xc3\\xcd\\x1a\\x0f\\xdb\\xdfHB\\xcbM(\\xeb3' │ 0.00002 segundos    │\n",
            "├─────┼───────────────────┼───────────────────────────────────────────────────┼─────────────────────┤\n",
            "│  17 │ Muito calor hoje  │ b'D\\xd2\\xea\\xc3\\xcd\\x1a\\x0f\\xdb\\xdfHB\\xcbM(\\xeb3' │ 0.00001 segundos    │\n",
            "├─────┼───────────────────┼───────────────────────────────────────────────────┼─────────────────────┤\n",
            "│  18 │ Muito calor hoje  │ b'D\\xd2\\xea\\xc3\\xcd\\x1a\\x0f\\xdb\\xdfHB\\xcbM(\\xeb3' │ 0.00001 segundos    │\n",
            "├─────┼───────────────────┼───────────────────────────────────────────────────┼─────────────────────┤\n",
            "│  19 │ Muito calor hoje  │ b'D\\xd2\\xea\\xc3\\xcd\\x1a\\x0f\\xdb\\xdfHB\\xcbM(\\xeb3' │ 0.00001 segundos    │\n",
            "├─────┼───────────────────┼───────────────────────────────────────────────────┼─────────────────────┤\n",
            "│  20 │ Muito calor hoje  │ b'D\\xd2\\xea\\xc3\\xcd\\x1a\\x0f\\xdb\\xdfHB\\xcbM(\\xeb3' │ 0.00001 segundos    │\n",
            "├─────┼───────────────────┼───────────────────────────────────────────────────┼─────────────────────┤\n",
            "│  21 │ Muito calor hoje  │ b'D\\xd2\\xea\\xc3\\xcd\\x1a\\x0f\\xdb\\xdfHB\\xcbM(\\xeb3' │ 0.00001 segundos    │\n",
            "├─────┼───────────────────┼───────────────────────────────────────────────────┼─────────────────────┤\n",
            "│  22 │ Muito calor hoje  │ b'D\\xd2\\xea\\xc3\\xcd\\x1a\\x0f\\xdb\\xdfHB\\xcbM(\\xeb3' │ 0.00001 segundos    │\n",
            "├─────┼───────────────────┼───────────────────────────────────────────────────┼─────────────────────┤\n",
            "│  23 │ Muito calor hoje  │ b'D\\xd2\\xea\\xc3\\xcd\\x1a\\x0f\\xdb\\xdfHB\\xcbM(\\xeb3' │ 0.00001 segundos    │\n",
            "├─────┼───────────────────┼───────────────────────────────────────────────────┼─────────────────────┤\n",
            "│  24 │ Muito calor hoje  │ b'D\\xd2\\xea\\xc3\\xcd\\x1a\\x0f\\xdb\\xdfHB\\xcbM(\\xeb3' │ 0.00001 segundos    │\n",
            "├─────┼───────────────────┼───────────────────────────────────────────────────┼─────────────────────┤\n",
            "│  25 │ Muito calor hoje  │ b'D\\xd2\\xea\\xc3\\xcd\\x1a\\x0f\\xdb\\xdfHB\\xcbM(\\xeb3' │ 0.00001 segundos    │\n",
            "├─────┼───────────────────┼───────────────────────────────────────────────────┼─────────────────────┤\n",
            "│  26 │ Muito calor hoje  │ b'D\\xd2\\xea\\xc3\\xcd\\x1a\\x0f\\xdb\\xdfHB\\xcbM(\\xeb3' │ 0.00001 segundos    │\n",
            "├─────┼───────────────────┼───────────────────────────────────────────────────┼─────────────────────┤\n",
            "│  27 │ Muito calor hoje  │ b'D\\xd2\\xea\\xc3\\xcd\\x1a\\x0f\\xdb\\xdfHB\\xcbM(\\xeb3' │ 0.00001 segundos    │\n",
            "├─────┼───────────────────┼───────────────────────────────────────────────────┼─────────────────────┤\n",
            "│  28 │ Muito calor hoje  │ b'D\\xd2\\xea\\xc3\\xcd\\x1a\\x0f\\xdb\\xdfHB\\xcbM(\\xeb3' │ 0.00001 segundos    │\n",
            "├─────┼───────────────────┼───────────────────────────────────────────────────┼─────────────────────┤\n",
            "│  29 │ Muito calor hoje  │ b'D\\xd2\\xea\\xc3\\xcd\\x1a\\x0f\\xdb\\xdfHB\\xcbM(\\xeb3' │ 0.00001 segundos    │\n",
            "├─────┼───────────────────┼───────────────────────────────────────────────────┼─────────────────────┤\n",
            "│  30 │ Muito calor hoje  │ b'D\\xd2\\xea\\xc3\\xcd\\x1a\\x0f\\xdb\\xdfHB\\xcbM(\\xeb3' │ 0.00001 segundos    │\n",
            "├─────┼───────────────────┼───────────────────────────────────────────────────┼─────────────────────┤\n",
            "│  31 │ Muito calor hoje  │ b'D\\xd2\\xea\\xc3\\xcd\\x1a\\x0f\\xdb\\xdfHB\\xcbM(\\xeb3' │ 0.00001 segundos    │\n",
            "├─────┼───────────────────┼───────────────────────────────────────────────────┼─────────────────────┤\n",
            "│  32 │ Muito calor hoje  │ b'D\\xd2\\xea\\xc3\\xcd\\x1a\\x0f\\xdb\\xdfHB\\xcbM(\\xeb3' │ 0.00001 segundos    │\n",
            "├─────┼───────────────────┼───────────────────────────────────────────────────┼─────────────────────┤\n",
            "│  33 │ Muito calor hoje  │ b'D\\xd2\\xea\\xc3\\xcd\\x1a\\x0f\\xdb\\xdfHB\\xcbM(\\xeb3' │ 0.00001 segundos    │\n",
            "├─────┼───────────────────┼───────────────────────────────────────────────────┼─────────────────────┤\n",
            "│  34 │ Muito calor hoje  │ b'D\\xd2\\xea\\xc3\\xcd\\x1a\\x0f\\xdb\\xdfHB\\xcbM(\\xeb3' │ 0.00001 segundos    │\n",
            "├─────┼───────────────────┼───────────────────────────────────────────────────┼─────────────────────┤\n",
            "│  35 │ Muito calor hoje  │ b'D\\xd2\\xea\\xc3\\xcd\\x1a\\x0f\\xdb\\xdfHB\\xcbM(\\xeb3' │ 0.00001 segundos    │\n",
            "├─────┼───────────────────┼───────────────────────────────────────────────────┼─────────────────────┤\n",
            "│  36 │ Muito calor hoje  │ b'D\\xd2\\xea\\xc3\\xcd\\x1a\\x0f\\xdb\\xdfHB\\xcbM(\\xeb3' │ 0.00001 segundos    │\n",
            "├─────┼───────────────────┼───────────────────────────────────────────────────┼─────────────────────┤\n",
            "│  37 │ Muito calor hoje  │ b'D\\xd2\\xea\\xc3\\xcd\\x1a\\x0f\\xdb\\xdfHB\\xcbM(\\xeb3' │ 0.00001 segundos    │\n",
            "├─────┼───────────────────┼───────────────────────────────────────────────────┼─────────────────────┤\n",
            "│  38 │ Muito calor hoje  │ b'D\\xd2\\xea\\xc3\\xcd\\x1a\\x0f\\xdb\\xdfHB\\xcbM(\\xeb3' │ 0.00001 segundos    │\n",
            "├─────┼───────────────────┼───────────────────────────────────────────────────┼─────────────────────┤\n",
            "│  39 │ Muito calor hoje  │ b'D\\xd2\\xea\\xc3\\xcd\\x1a\\x0f\\xdb\\xdfHB\\xcbM(\\xeb3' │ 0.00511 segundos    │\n",
            "├─────┼───────────────────┼───────────────────────────────────────────────────┼─────────────────────┤\n",
            "│  40 │ Muito calor hoje  │ b'D\\xd2\\xea\\xc3\\xcd\\x1a\\x0f\\xdb\\xdfHB\\xcbM(\\xeb3' │ 0.00002 segundos    │\n",
            "├─────┼───────────────────┼───────────────────────────────────────────────────┼─────────────────────┤\n",
            "│  41 │ Muito calor hoje  │ b'D\\xd2\\xea\\xc3\\xcd\\x1a\\x0f\\xdb\\xdfHB\\xcbM(\\xeb3' │ 0.00001 segundos    │\n",
            "├─────┼───────────────────┼───────────────────────────────────────────────────┼─────────────────────┤\n",
            "│  42 │ Muito calor hoje  │ b'D\\xd2\\xea\\xc3\\xcd\\x1a\\x0f\\xdb\\xdfHB\\xcbM(\\xeb3' │ 0.00001 segundos    │\n",
            "├─────┼───────────────────┼───────────────────────────────────────────────────┼─────────────────────┤\n",
            "│  43 │ Muito calor hoje  │ b'D\\xd2\\xea\\xc3\\xcd\\x1a\\x0f\\xdb\\xdfHB\\xcbM(\\xeb3' │ 0.00001 segundos    │\n",
            "├─────┼───────────────────┼───────────────────────────────────────────────────┼─────────────────────┤\n",
            "│  44 │ Muito calor hoje  │ b'D\\xd2\\xea\\xc3\\xcd\\x1a\\x0f\\xdb\\xdfHB\\xcbM(\\xeb3' │ 0.00001 segundos    │\n",
            "├─────┼───────────────────┼───────────────────────────────────────────────────┼─────────────────────┤\n",
            "│  45 │ Muito calor hoje  │ b'D\\xd2\\xea\\xc3\\xcd\\x1a\\x0f\\xdb\\xdfHB\\xcbM(\\xeb3' │ 0.00001 segundos    │\n",
            "├─────┼───────────────────┼───────────────────────────────────────────────────┼─────────────────────┤\n",
            "│  46 │ Muito calor hoje  │ b'D\\xd2\\xea\\xc3\\xcd\\x1a\\x0f\\xdb\\xdfHB\\xcbM(\\xeb3' │ 0.00001 segundos    │\n",
            "├─────┼───────────────────┼───────────────────────────────────────────────────┼─────────────────────┤\n",
            "│  47 │ Muito calor hoje  │ b'D\\xd2\\xea\\xc3\\xcd\\x1a\\x0f\\xdb\\xdfHB\\xcbM(\\xeb3' │ 0.00001 segundos    │\n",
            "├─────┼───────────────────┼───────────────────────────────────────────────────┼─────────────────────┤\n",
            "│  48 │ Muito calor hoje  │ b'D\\xd2\\xea\\xc3\\xcd\\x1a\\x0f\\xdb\\xdfHB\\xcbM(\\xeb3' │ 0.00001 segundos    │\n",
            "├─────┼───────────────────┼───────────────────────────────────────────────────┼─────────────────────┤\n",
            "│  49 │ Muito calor hoje  │ b'D\\xd2\\xea\\xc3\\xcd\\x1a\\x0f\\xdb\\xdfHB\\xcbM(\\xeb3' │ 0.00001 segundos    │\n",
            "├─────┼───────────────────┼───────────────────────────────────────────────────┼─────────────────────┤\n",
            "│  50 │ Muito calor hoje  │ b'D\\xd2\\xea\\xc3\\xcd\\x1a\\x0f\\xdb\\xdfHB\\xcbM(\\xeb3' │ 0.00001 segundos    │\n",
            "├─────┼───────────────────┼───────────────────────────────────────────────────┼─────────────────────┤\n",
            "│  51 │ Muito calor hoje  │ b'D\\xd2\\xea\\xc3\\xcd\\x1a\\x0f\\xdb\\xdfHB\\xcbM(\\xeb3' │ 0.00001 segundos    │\n",
            "├─────┼───────────────────┼───────────────────────────────────────────────────┼─────────────────────┤\n",
            "│  52 │ Muito calor hoje  │ b'D\\xd2\\xea\\xc3\\xcd\\x1a\\x0f\\xdb\\xdfHB\\xcbM(\\xeb3' │ 0.00001 segundos    │\n",
            "├─────┼───────────────────┼───────────────────────────────────────────────────┼─────────────────────┤\n",
            "│  53 │ Muito calor hoje  │ b'D\\xd2\\xea\\xc3\\xcd\\x1a\\x0f\\xdb\\xdfHB\\xcbM(\\xeb3' │ 0.00001 segundos    │\n",
            "├─────┼───────────────────┼───────────────────────────────────────────────────┼─────────────────────┤\n",
            "│  54 │ Muito calor hoje  │ b'D\\xd2\\xea\\xc3\\xcd\\x1a\\x0f\\xdb\\xdfHB\\xcbM(\\xeb3' │ 0.00001 segundos    │\n",
            "├─────┼───────────────────┼───────────────────────────────────────────────────┼─────────────────────┤\n",
            "│  55 │ Muito calor hoje  │ b'D\\xd2\\xea\\xc3\\xcd\\x1a\\x0f\\xdb\\xdfHB\\xcbM(\\xeb3' │ 0.00001 segundos    │\n",
            "├─────┼───────────────────┼───────────────────────────────────────────────────┼─────────────────────┤\n",
            "│  56 │ Muito calor hoje  │ b'D\\xd2\\xea\\xc3\\xcd\\x1a\\x0f\\xdb\\xdfHB\\xcbM(\\xeb3' │ 0.00001 segundos    │\n",
            "├─────┼───────────────────┼───────────────────────────────────────────────────┼─────────────────────┤\n",
            "│  57 │ Muito calor hoje  │ b'D\\xd2\\xea\\xc3\\xcd\\x1a\\x0f\\xdb\\xdfHB\\xcbM(\\xeb3' │ 0.00001 segundos    │\n",
            "├─────┼───────────────────┼───────────────────────────────────────────────────┼─────────────────────┤\n",
            "│  58 │ Muito calor hoje  │ b'D\\xd2\\xea\\xc3\\xcd\\x1a\\x0f\\xdb\\xdfHB\\xcbM(\\xeb3' │ 0.00001 segundos    │\n",
            "├─────┼───────────────────┼───────────────────────────────────────────────────┼─────────────────────┤\n",
            "│  59 │ Muito calor hoje  │ b'D\\xd2\\xea\\xc3\\xcd\\x1a\\x0f\\xdb\\xdfHB\\xcbM(\\xeb3' │ 0.00001 segundos    │\n",
            "├─────┼───────────────────┼───────────────────────────────────────────────────┼─────────────────────┤\n",
            "│  60 │ Muito calor hoje  │ b'D\\xd2\\xea\\xc3\\xcd\\x1a\\x0f\\xdb\\xdfHB\\xcbM(\\xeb3' │ 0.00001 segundos    │\n",
            "├─────┼───────────────────┼───────────────────────────────────────────────────┼─────────────────────┤\n",
            "│  61 │ Muito calor hoje  │ b'D\\xd2\\xea\\xc3\\xcd\\x1a\\x0f\\xdb\\xdfHB\\xcbM(\\xeb3' │ 0.00001 segundos    │\n",
            "├─────┼───────────────────┼───────────────────────────────────────────────────┼─────────────────────┤\n",
            "│  62 │ Muito calor hoje  │ b'D\\xd2\\xea\\xc3\\xcd\\x1a\\x0f\\xdb\\xdfHB\\xcbM(\\xeb3' │ 0.00001 segundos    │\n",
            "├─────┼───────────────────┼───────────────────────────────────────────────────┼─────────────────────┤\n",
            "│  63 │ Muito calor hoje  │ b'D\\xd2\\xea\\xc3\\xcd\\x1a\\x0f\\xdb\\xdfHB\\xcbM(\\xeb3' │ 0.00001 segundos    │\n",
            "├─────┼───────────────────┼───────────────────────────────────────────────────┼─────────────────────┤\n",
            "│  64 │ Muito calor hoje  │ b'D\\xd2\\xea\\xc3\\xcd\\x1a\\x0f\\xdb\\xdfHB\\xcbM(\\xeb3' │ 0.00001 segundos    │\n",
            "├─────┼───────────────────┼───────────────────────────────────────────────────┼─────────────────────┤\n",
            "│  65 │ Muito calor hoje  │ b'D\\xd2\\xea\\xc3\\xcd\\x1a\\x0f\\xdb\\xdfHB\\xcbM(\\xeb3' │ 0.00001 segundos    │\n",
            "├─────┼───────────────────┼───────────────────────────────────────────────────┼─────────────────────┤\n",
            "│  66 │ Muito calor hoje  │ b'D\\xd2\\xea\\xc3\\xcd\\x1a\\x0f\\xdb\\xdfHB\\xcbM(\\xeb3' │ 0.00001 segundos    │\n",
            "├─────┼───────────────────┼───────────────────────────────────────────────────┼─────────────────────┤\n",
            "│  67 │ Muito calor hoje  │ b'D\\xd2\\xea\\xc3\\xcd\\x1a\\x0f\\xdb\\xdfHB\\xcbM(\\xeb3' │ 0.00001 segundos    │\n",
            "├─────┼───────────────────┼───────────────────────────────────────────────────┼─────────────────────┤\n",
            "│  68 │ Muito calor hoje  │ b'D\\xd2\\xea\\xc3\\xcd\\x1a\\x0f\\xdb\\xdfHB\\xcbM(\\xeb3' │ 0.00001 segundos    │\n",
            "├─────┼───────────────────┼───────────────────────────────────────────────────┼─────────────────────┤\n",
            "│  69 │ Muito calor hoje  │ b'D\\xd2\\xea\\xc3\\xcd\\x1a\\x0f\\xdb\\xdfHB\\xcbM(\\xeb3' │ 0.00001 segundos    │\n",
            "├─────┼───────────────────┼───────────────────────────────────────────────────┼─────────────────────┤\n",
            "│  70 │ Muito calor hoje  │ b'D\\xd2\\xea\\xc3\\xcd\\x1a\\x0f\\xdb\\xdfHB\\xcbM(\\xeb3' │ 0.00001 segundos    │\n",
            "├─────┼───────────────────┼───────────────────────────────────────────────────┼─────────────────────┤\n",
            "│  71 │ Muito calor hoje  │ b'D\\xd2\\xea\\xc3\\xcd\\x1a\\x0f\\xdb\\xdfHB\\xcbM(\\xeb3' │ 0.00001 segundos    │\n",
            "├─────┼───────────────────┼───────────────────────────────────────────────────┼─────────────────────┤\n",
            "│  72 │ Muito calor hoje  │ b'D\\xd2\\xea\\xc3\\xcd\\x1a\\x0f\\xdb\\xdfHB\\xcbM(\\xeb3' │ 0.00001 segundos    │\n",
            "├─────┼───────────────────┼───────────────────────────────────────────────────┼─────────────────────┤\n",
            "│  73 │ Muito calor hoje  │ b'D\\xd2\\xea\\xc3\\xcd\\x1a\\x0f\\xdb\\xdfHB\\xcbM(\\xeb3' │ 0.00001 segundos    │\n",
            "├─────┼───────────────────┼───────────────────────────────────────────────────┼─────────────────────┤\n",
            "│  74 │ Muito calor hoje  │ b'D\\xd2\\xea\\xc3\\xcd\\x1a\\x0f\\xdb\\xdfHB\\xcbM(\\xeb3' │ 0.00001 segundos    │\n",
            "├─────┼───────────────────┼───────────────────────────────────────────────────┼─────────────────────┤\n",
            "│  75 │ Muito calor hoje  │ b'D\\xd2\\xea\\xc3\\xcd\\x1a\\x0f\\xdb\\xdfHB\\xcbM(\\xeb3' │ 0.00001 segundos    │\n",
            "├─────┼───────────────────┼───────────────────────────────────────────────────┼─────────────────────┤\n",
            "│  76 │ Muito calor hoje  │ b'D\\xd2\\xea\\xc3\\xcd\\x1a\\x0f\\xdb\\xdfHB\\xcbM(\\xeb3' │ 0.00001 segundos    │\n",
            "├─────┼───────────────────┼───────────────────────────────────────────────────┼─────────────────────┤\n",
            "│  77 │ Muito calor hoje  │ b'D\\xd2\\xea\\xc3\\xcd\\x1a\\x0f\\xdb\\xdfHB\\xcbM(\\xeb3' │ 0.00001 segundos    │\n",
            "├─────┼───────────────────┼───────────────────────────────────────────────────┼─────────────────────┤\n",
            "│  78 │ Muito calor hoje  │ b'D\\xd2\\xea\\xc3\\xcd\\x1a\\x0f\\xdb\\xdfHB\\xcbM(\\xeb3' │ 0.00001 segundos    │\n",
            "├─────┼───────────────────┼───────────────────────────────────────────────────┼─────────────────────┤\n",
            "│  79 │ Muito calor hoje  │ b'D\\xd2\\xea\\xc3\\xcd\\x1a\\x0f\\xdb\\xdfHB\\xcbM(\\xeb3' │ 0.00002 segundos    │\n",
            "├─────┼───────────────────┼───────────────────────────────────────────────────┼─────────────────────┤\n",
            "│  80 │ Muito calor hoje  │ b'D\\xd2\\xea\\xc3\\xcd\\x1a\\x0f\\xdb\\xdfHB\\xcbM(\\xeb3' │ 0.00002 segundos    │\n",
            "├─────┼───────────────────┼───────────────────────────────────────────────────┼─────────────────────┤\n",
            "│  81 │ Muito calor hoje  │ b'D\\xd2\\xea\\xc3\\xcd\\x1a\\x0f\\xdb\\xdfHB\\xcbM(\\xeb3' │ 0.00001 segundos    │\n",
            "├─────┼───────────────────┼───────────────────────────────────────────────────┼─────────────────────┤\n",
            "│  82 │ Muito calor hoje  │ b'D\\xd2\\xea\\xc3\\xcd\\x1a\\x0f\\xdb\\xdfHB\\xcbM(\\xeb3' │ 0.00001 segundos    │\n",
            "├─────┼───────────────────┼───────────────────────────────────────────────────┼─────────────────────┤\n",
            "│  83 │ Muito calor hoje  │ b'D\\xd2\\xea\\xc3\\xcd\\x1a\\x0f\\xdb\\xdfHB\\xcbM(\\xeb3' │ 0.00001 segundos    │\n",
            "├─────┼───────────────────┼───────────────────────────────────────────────────┼─────────────────────┤\n",
            "│  84 │ Muito calor hoje  │ b'D\\xd2\\xea\\xc3\\xcd\\x1a\\x0f\\xdb\\xdfHB\\xcbM(\\xeb3' │ 0.00001 segundos    │\n",
            "├─────┼───────────────────┼───────────────────────────────────────────────────┼─────────────────────┤\n",
            "│  85 │ Muito calor hoje  │ b'D\\xd2\\xea\\xc3\\xcd\\x1a\\x0f\\xdb\\xdfHB\\xcbM(\\xeb3' │ 0.00001 segundos    │\n",
            "├─────┼───────────────────┼───────────────────────────────────────────────────┼─────────────────────┤\n",
            "│  86 │ Muito calor hoje  │ b'D\\xd2\\xea\\xc3\\xcd\\x1a\\x0f\\xdb\\xdfHB\\xcbM(\\xeb3' │ 0.00001 segundos    │\n",
            "├─────┼───────────────────┼───────────────────────────────────────────────────┼─────────────────────┤\n",
            "│  87 │ Muito calor hoje  │ b'D\\xd2\\xea\\xc3\\xcd\\x1a\\x0f\\xdb\\xdfHB\\xcbM(\\xeb3' │ 0.00001 segundos    │\n",
            "├─────┼───────────────────┼───────────────────────────────────────────────────┼─────────────────────┤\n",
            "│  88 │ Muito calor hoje  │ b'D\\xd2\\xea\\xc3\\xcd\\x1a\\x0f\\xdb\\xdfHB\\xcbM(\\xeb3' │ 0.00001 segundos    │\n",
            "├─────┼───────────────────┼───────────────────────────────────────────────────┼─────────────────────┤\n",
            "│  89 │ Muito calor hoje  │ b'D\\xd2\\xea\\xc3\\xcd\\x1a\\x0f\\xdb\\xdfHB\\xcbM(\\xeb3' │ 0.00001 segundos    │\n",
            "├─────┼───────────────────┼───────────────────────────────────────────────────┼─────────────────────┤\n",
            "│  90 │ Muito calor hoje  │ b'D\\xd2\\xea\\xc3\\xcd\\x1a\\x0f\\xdb\\xdfHB\\xcbM(\\xeb3' │ 0.00001 segundos    │\n",
            "├─────┼───────────────────┼───────────────────────────────────────────────────┼─────────────────────┤\n",
            "│  91 │ Muito calor hoje  │ b'D\\xd2\\xea\\xc3\\xcd\\x1a\\x0f\\xdb\\xdfHB\\xcbM(\\xeb3' │ 0.00001 segundos    │\n",
            "├─────┼───────────────────┼───────────────────────────────────────────────────┼─────────────────────┤\n",
            "│  92 │ Muito calor hoje  │ b'D\\xd2\\xea\\xc3\\xcd\\x1a\\x0f\\xdb\\xdfHB\\xcbM(\\xeb3' │ 0.00001 segundos    │\n",
            "├─────┼───────────────────┼───────────────────────────────────────────────────┼─────────────────────┤\n",
            "│  93 │ Muito calor hoje  │ b'D\\xd2\\xea\\xc3\\xcd\\x1a\\x0f\\xdb\\xdfHB\\xcbM(\\xeb3' │ 0.00001 segundos    │\n",
            "├─────┼───────────────────┼───────────────────────────────────────────────────┼─────────────────────┤\n",
            "│  94 │ Muito calor hoje  │ b'D\\xd2\\xea\\xc3\\xcd\\x1a\\x0f\\xdb\\xdfHB\\xcbM(\\xeb3' │ 0.00001 segundos    │\n",
            "├─────┼───────────────────┼───────────────────────────────────────────────────┼─────────────────────┤\n",
            "│  95 │ Muito calor hoje  │ b'D\\xd2\\xea\\xc3\\xcd\\x1a\\x0f\\xdb\\xdfHB\\xcbM(\\xeb3' │ 0.00001 segundos    │\n",
            "├─────┼───────────────────┼───────────────────────────────────────────────────┼─────────────────────┤\n",
            "│  96 │ Muito calor hoje  │ b'D\\xd2\\xea\\xc3\\xcd\\x1a\\x0f\\xdb\\xdfHB\\xcbM(\\xeb3' │ 0.00001 segundos    │\n",
            "├─────┼───────────────────┼───────────────────────────────────────────────────┼─────────────────────┤\n",
            "│  97 │ Muito calor hoje  │ b'D\\xd2\\xea\\xc3\\xcd\\x1a\\x0f\\xdb\\xdfHB\\xcbM(\\xeb3' │ 0.00001 segundos    │\n",
            "├─────┼───────────────────┼───────────────────────────────────────────────────┼─────────────────────┤\n",
            "│  98 │ Muito calor hoje  │ b'D\\xd2\\xea\\xc3\\xcd\\x1a\\x0f\\xdb\\xdfHB\\xcbM(\\xeb3' │ 0.00001 segundos    │\n",
            "├─────┼───────────────────┼───────────────────────────────────────────────────┼─────────────────────┤\n",
            "│  99 │ Muito calor hoje  │ b'D\\xd2\\xea\\xc3\\xcd\\x1a\\x0f\\xdb\\xdfHB\\xcbM(\\xeb3' │ 0.00002 segundos    │\n",
            "├─────┼───────────────────┼───────────────────────────────────────────────────┼─────────────────────┤\n",
            "│ 100 │ Muito calor hoje  │ b'D\\xd2\\xea\\xc3\\xcd\\x1a\\x0f\\xdb\\xdfHB\\xcbM(\\xeb3' │ 0.00001 segundos    │\n",
            "╘═════╧═══════════════════╧═══════════════════════════════════════════════════╧═════════════════════╛\n"
          ]
        }
      ]
    },
    {
      "cell_type": "markdown",
      "source": [
        "Após a análise dos resultados obtidos, é importante destacar que, em geral, o primeiro teste sempre leva mais tempo, em relação aos demais.\n",
        "A maioria leva 0.00001 segundos, com algumas variações com o tempo de execução um pouco maiores, mas nunca maiores que o tempo do primeiro teste."
      ],
      "metadata": {
        "id": "JztoNMWSCuCd"
      }
    }
  ]
}